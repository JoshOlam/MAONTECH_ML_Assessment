{
 "cells": [
  {
   "cell_type": "markdown",
   "metadata": {},
   "source": [
    "# Sales Prediction Assessment\n",
    "\n",
    "© Joshua Olalemi\n",
    "\n",
    "---\n",
    "### Project Overview: ML Prediction assessment\n",
    "\n",
    "Further to the discussion I had with Mr Paul Oluyege of MaonTech, I was asked to build and train a machine-learning prediction system on the sales dataset provided. I am to use the data for the last 3 months' average monthly sales (AMS) number to predict the next month's average monthly sales number.\n",
    "\n",
    "The further instructions given are:\n",
    "\n",
    "- Dataset shared must be uploaded to PostgreSQL DB and read from there.\n",
    "- Use a suitable model, bear in mind the prediction accuracy (i.e Linear regression)\n",
    "- The output is as follows.\n",
    "> 1. A job service (to auto-train the model on a scheduled basis  ) or an endpoint (as a manual trigger) to train the prediction model.\n",
    "> 2. endpoint to get predicted value of sales for next month's future sales.\n",
    "\n",
    "### Dataset data info\n",
    "\n",
    "- `region` - the region where the depot is located, i.e SW, NT, SE, LG\n",
    "- `depot` - the name of the depot i.e ABEOKUTA, also known as `location`\n",
    "- `item_no` - Product number i.e 10040447, also known as `SKU`.\n",
    "- `AMS` - Average monthly sales\n",
    "- `month` - Month number, i.e Jan =1, Feb =2, ..., Dec = 12\n",
    "- `year` - Operation year. i.e 2022.\n",
    "\n",
    "### Project Methodology\n",
    "From the problem statement, I deduced the below frame work for workflow:\n",
    "#### Explore the Data:\n",
    "#### Feature Engineering:\n",
    "#### Modelling:\n",
    "#### Deployment:"
   ]
  },
  {
   "cell_type": "markdown",
   "metadata": {},
   "source": [
    "<a id=\"cont\"></a>\n",
    "\n",
    "## Table of Contents\n",
    "\n",
    "<a href=#one>1. Importing Packages</a>\n",
    "\n",
    "<a href=#two>2. Loading Data</a>\n",
    "\n",
    "<a href=#three>3. Exploratory Data Analysis (EDA)</a>\n",
    "\n",
    "<a href=#four>4. Data Engineering</a>\n",
    "\n",
    "<a href=#five>5. Modeling</a>\n",
    "\n",
    "<a href=#six>6. Model Performance</a>\n",
    "\n",
    "<a href=#seven>7. Model Explanations</a>\n",
    "\n",
    "<a href=#eight>8. Conclusion and Recommendation</a>\n",
    "\n",
    "<a href=#nine>9. Acknowledgement and References</a>"
   ]
  },
  {
   "cell_type": "markdown",
   "metadata": {},
   "source": [
    " <a id=\"one\"></a>\n",
    "## 1. Importing Packages\n",
    "<a href=#cont>Back to Table of Contents</a>\n",
    "\n",
    "---\n",
    "    \n",
    "| ⚡ Description: Importing Packages ⚡ |\n",
    "| :--------------------------- |\n",
    "| In this section I import, and briefly discuss, the libraries that will be used throughout my analysis and modelling. |\n",
    "\n",
    "---"
   ]
  },
  {
   "cell_type": "code",
   "execution_count": 2,
   "metadata": {},
   "outputs": [],
   "source": [
    "#For connecting to postgre\n",
    "import psycopg2\n",
    "import sys\n",
    "sys.path.append('../') #to add the directory containing the config script\n",
    "import maon_config as config\n",
    "import pandas as pd"
   ]
  },
  {
   "cell_type": "markdown",
   "metadata": {},
   "source": [
    "<a id=\"two\"></a>\n",
    "## 2. Loading the Data\n",
    "<a class=\"anchor\" id=\"1.1\"></a>\n",
    "<a href=#cont>Back to Table of Contents</a>\n",
    "\n",
    "---\n",
    "    \n",
    "| ⚡ Description: Loading the data ⚡ |\n",
    "| :--------------------------- |\n",
    "| In this section I loaded the data from the postgre server into a DataFrame. |\n",
    "\n",
    "---"
   ]
  },
  {
   "cell_type": "code",
   "execution_count": 3,
   "metadata": {},
   "outputs": [],
   "source": [
    "def connect():\n",
    "    \n",
    "    # Set up a connection to the postgres server.\n",
    "    print(\"Setting up the postgres server...\")\n",
    "    conn_string = \"host=\"+ config.PGHOST  +\" dbname=\"+ config.PGDATABASE +\" user=\" + config.PGUSER \\\n",
    "                  +\" password=\"+ config.PGPASSWORD\n",
    "    #print(conn_string)\n",
    "    print(\"\\t...completed\\nConnecting to the server...\")\n",
    "    conn = psycopg2.connect(conn_string)\n",
    "    print(\"\\t...Server Connected!\")\n",
    "    print(\"Importing data...\")\n",
    "    cursor = conn.cursor()\n",
    "    \n",
    "    # Create a cursor object\n",
    "    cursor.execute(\"SELECT * FROM maontech_dataset\")\n",
    "    data = cursor.fetchall()\n",
    "    print(\"\\t...data imported!\")\n",
    "    return data"
   ]
  },
  {
   "cell_type": "code",
   "execution_count": 6,
   "metadata": {},
   "outputs": [
    {
     "name": "stdout",
     "output_type": "stream",
     "text": [
      "Setting up the postgres server...\n",
      "\t...completed\n",
      "Connecting to the server...\n",
      "\t...Server Connected!\n",
      "Importing data...\n",
      "\t...data imported!\n"
     ]
    },
    {
     "data": {
      "text/html": [
       "<div>\n",
       "<style scoped>\n",
       "    .dataframe tbody tr th:only-of-type {\n",
       "        vertical-align: middle;\n",
       "    }\n",
       "\n",
       "    .dataframe tbody tr th {\n",
       "        vertical-align: top;\n",
       "    }\n",
       "\n",
       "    .dataframe thead th {\n",
       "        text-align: right;\n",
       "    }\n",
       "</style>\n",
       "<table border=\"1\" class=\"dataframe\">\n",
       "  <thead>\n",
       "    <tr style=\"text-align: right;\">\n",
       "      <th></th>\n",
       "      <th>region</th>\n",
       "      <th>depot</th>\n",
       "      <th>item_no</th>\n",
       "      <th>tms</th>\n",
       "      <th>ams</th>\n",
       "      <th>month</th>\n",
       "      <th>year</th>\n",
       "    </tr>\n",
       "  </thead>\n",
       "  <tbody>\n",
       "    <tr>\n",
       "      <th>0</th>\n",
       "      <td>jags</td>\n",
       "      <td>FUNT</td>\n",
       "      <td>10063228</td>\n",
       "      <td>0.000000</td>\n",
       "      <td>0.000000</td>\n",
       "      <td>9</td>\n",
       "      <td>2022</td>\n",
       "    </tr>\n",
       "    <tr>\n",
       "      <th>1</th>\n",
       "      <td>SW</td>\n",
       "      <td>ABEOKUTA</td>\n",
       "      <td>10040447</td>\n",
       "      <td>8.878000</td>\n",
       "      <td>4.439000</td>\n",
       "      <td>1</td>\n",
       "      <td>2022</td>\n",
       "    </tr>\n",
       "    <tr>\n",
       "      <th>2</th>\n",
       "      <td>SW</td>\n",
       "      <td>ABEOKUTA</td>\n",
       "      <td>10040447</td>\n",
       "      <td>9.313929</td>\n",
       "      <td>4.656964</td>\n",
       "      <td>2</td>\n",
       "      <td>2022</td>\n",
       "    </tr>\n",
       "    <tr>\n",
       "      <th>3</th>\n",
       "      <td>SW</td>\n",
       "      <td>ABEOKUTA</td>\n",
       "      <td>10040447</td>\n",
       "      <td>10.244129</td>\n",
       "      <td>5.122065</td>\n",
       "      <td>3</td>\n",
       "      <td>2022</td>\n",
       "    </tr>\n",
       "    <tr>\n",
       "      <th>4</th>\n",
       "      <td>SW</td>\n",
       "      <td>ABEOKUTA</td>\n",
       "      <td>10040447</td>\n",
       "      <td>10.821800</td>\n",
       "      <td>5.410900</td>\n",
       "      <td>4</td>\n",
       "      <td>2022</td>\n",
       "    </tr>\n",
       "  </tbody>\n",
       "</table>\n",
       "</div>"
      ],
      "text/plain": [
       "  region     depot   item_no        tms       ams  month  year\n",
       "0   jags      FUNT  10063228   0.000000  0.000000      9  2022\n",
       "1     SW  ABEOKUTA  10040447   8.878000  4.439000      1  2022\n",
       "2     SW  ABEOKUTA  10040447   9.313929  4.656964      2  2022\n",
       "3     SW  ABEOKUTA  10040447  10.244129  5.122065      3  2022\n",
       "4     SW  ABEOKUTA  10040447  10.821800  5.410900      4  2022"
      ]
     },
     "execution_count": 6,
     "metadata": {},
     "output_type": "execute_result"
    }
   ],
   "source": [
    "data = connect()\n",
    "columns = [\"region\", \"depot\", \"item_no\", \"tms\", \"ams\", \"month\", \"year\"]\n",
    "df = pd.DataFrame(data, columns=columns)\n",
    "df.head()\n",
    "del columns"
   ]
  },
  {
   "cell_type": "markdown",
   "metadata": {},
   "source": [
    "As seen above, our target variable `ams` is not occupying the last column position in the dataset. Let's rearrange the columns to ensure it is the last column there."
   ]
  },
  {
   "cell_type": "code",
   "execution_count": null,
   "metadata": {},
   "outputs": [],
   "source": [
    "cols = [col for col in df.columns if col != 'ams'] + ['ams']\n",
    "\n",
    "df = df.reindex(columns=cols)\n",
    "del cols\n",
    "df.head()"
   ]
  },
  {
   "cell_type": "markdown",
   "metadata": {},
   "source": []
  },
  {
   "cell_type": "code",
   "execution_count": null,
   "metadata": {},
   "outputs": [],
   "source": []
  }
 ],
 "metadata": {
  "kernelspec": {
   "display_name": "maonKernel",
   "language": "python",
   "name": "maonkernel"
  },
  "language_info": {
   "codemirror_mode": {
    "name": "ipython",
    "version": 3
   },
   "file_extension": ".py",
   "mimetype": "text/x-python",
   "name": "python",
   "nbconvert_exporter": "python",
   "pygments_lexer": "ipython3",
   "version": "3.8.10"
  },
  "orig_nbformat": 4,
  "vscode": {
   "interpreter": {
    "hash": "bdf6c163d4d66230de494d8e345c721f908616bc0593d4ef9e45e675a593c0de"
   }
  }
 },
 "nbformat": 4,
 "nbformat_minor": 2
}
